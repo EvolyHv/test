{
  "nbformat": 4,
  "nbformat_minor": 0,
  "metadata": {
    "colab": {
      "provenance": []
    },
    "kernelspec": {
      "name": "python3",
      "display_name": "Python 3"
    },
    "language_info": {
      "name": "python"
    }
  },
  "cells": [
    {
      "cell_type": "markdown",
      "source": [
        "# Практическая работа №1"
      ],
      "metadata": {
        "id": "ezioDaF9x3i8"
      }
    },
    {
      "cell_type": "code",
      "execution_count": 1,
      "metadata": {
        "id": "tVK7Spn-w55B"
      },
      "outputs": [],
      "source": [
        "import math"
      ]
    },
    {
      "cell_type": "code",
      "source": [
        "a = 5\n",
        "b = 2\n",
        "print(a + b) # Сложение\n",
        "print(a - b) # Вычитание\n",
        "print(a * b) # Умножение\n",
        "print(a / b) # Деление"
      ],
      "metadata": {
        "colab": {
          "base_uri": "https://localhost:8080/"
        },
        "id": "Rf-crqhEw8XW",
        "outputId": "1a0685d7-f04a-4a1b-f4ee-5278c6864c2a"
      },
      "execution_count": 2,
      "outputs": [
        {
          "output_type": "stream",
          "name": "stdout",
          "text": [
            "7\n",
            "3\n",
            "10\n",
            "2.5\n"
          ]
        }
      ]
    },
    {
      "cell_type": "code",
      "source": [
        "a = 5\n",
        "b = 2\n",
        "print(a > b) # Больше\n",
        "print(a < b) # Меньше\n",
        "print(a == b) # Равно\n",
        "print(a != b) # Не равно"
      ],
      "metadata": {
        "colab": {
          "base_uri": "https://localhost:8080/"
        },
        "id": "LNgwF2lqxMx5",
        "outputId": "da3e71db-694b-4be1-de23-d6d61f55c960"
      },
      "execution_count": 3,
      "outputs": [
        {
          "output_type": "stream",
          "name": "stdout",
          "text": [
            "True\n",
            "False\n",
            "False\n",
            "True\n"
          ]
        }
      ]
    },
    {
      "cell_type": "code",
      "source": [
        "print(\"Hello worls! My name is unknown\") # Вывод строки\n",
        "x = input(\"Введите число: \") # Ввод данных\n",
        "print(\"Вы ввели число \" + x) # Вывод строки с переменной"
      ],
      "metadata": {
        "colab": {
          "base_uri": "https://localhost:8080/"
        },
        "id": "sLFKPzaGxWP6",
        "outputId": "a0f9f4f6-6d9d-43a7-8f73-d7f2d1afe03e"
      },
      "execution_count": 4,
      "outputs": [
        {
          "output_type": "stream",
          "name": "stdout",
          "text": [
            "Hello worls! My name is unknown\n",
            "Введите число: 25\n",
            "Вы ввели число 25\n"
          ]
        }
      ]
    }
  ]
}
